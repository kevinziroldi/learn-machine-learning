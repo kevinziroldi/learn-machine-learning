{
 "cells": [
  {
   "cell_type": "code",
   "execution_count": 1,
   "metadata": {},
   "outputs": [],
   "source": [
    "# Mean Shift è un algoritmo di clustering, ma non è clustering lineare ma hierarchical clustering\n",
    "# questo significa principalmente che individua da solo il numero di clusters, di classi ovvero gruppi\n",
    "# senza che io debba indicarlo (la k di kMeans)"
   ]
  },
  {
   "cell_type": "code",
   "execution_count": 2,
   "metadata": {},
   "outputs": [],
   "source": [
    "# FUNZIONAMENTO:\n",
    "# all'inizio ogni dato che ho è un centroid (baricentro, centro della classe, cluster center)\n",
    "# inoltre c'è un raggio\n",
    "# per ogni dato (ovvero ogni centroid):\n",
    "# -disegno il raggio e vedo quali altri dati rientrano nell'area determinata\n",
    "# -faccio la media dei dati che rientrano e trovo un nuovo centro\n",
    "# -creo la nuova area con lo stesso raggio dal nuovo centro\n",
    "# ... continuo fino a quando il centro non si muove più"
   ]
  },
  {
   "cell_type": "code",
   "execution_count": 3,
   "metadata": {},
   "outputs": [],
   "source": [
    "# però devo farlo per tutti i dati, non solo 1\n",
    "# in realtà dati che appartengono allo stesso cluster risulteranno avere lo stesso centroid\n",
    "# si parla di un centro di convergenza verso cui muovono appunto tutti i centroids 'finali'"
   ]
  },
  {
   "cell_type": "code",
   "execution_count": 4,
   "metadata": {},
   "outputs": [],
   "source": [
    "# si possono anche creare vari livelli per vari raggi\n",
    "# ovvero posso creare più di un raggio, in modo tale da comprendere più dati\n",
    "# ma assegnando un peso ai raggi, in modo tale che un dato che è dentro ma è lontanto abbia minore peso (valenza)\n",
    "# di uno che è dentro ed è più vicino"
   ]
  }
 ],
 "metadata": {
  "kernelspec": {
   "display_name": "Python 3.8.1 64-bit",
   "language": "python",
   "name": "python38164bit164af38e2bcc47a2b21e3548f92575a3"
  },
  "language_info": {
   "codemirror_mode": {
    "name": "ipython",
    "version": 3
   },
   "file_extension": ".py",
   "mimetype": "text/x-python",
   "name": "python",
   "nbconvert_exporter": "python",
   "pygments_lexer": "ipython3",
   "version": "3.8.1"
  }
 },
 "nbformat": 4,
 "nbformat_minor": 4
}
