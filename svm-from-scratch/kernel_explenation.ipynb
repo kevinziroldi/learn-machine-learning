{
 "cells": [
  {
   "cell_type": "code",
   "execution_count": 1,
   "metadata": {},
   "outputs": [],
   "source": [
    "# un kernel è una specie di funzione e serve per aumentare le dimensioni del mio dataset\n",
    "# aumentare le dimensioni serve a poter dividere in maniera lineare dei dati che prima non potevano essere divisi\n",
    "# è possibile aumentare di dimensioni perchè tutti i dati in SVM sono collegati da prodotti scalari,\n",
    "# dato che nel prod. sclare il risultato è un numero scalare, non mi interessa quale sia la dimensione del dato (x)"
   ]
  },
  {
   "cell_type": "code",
   "execution_count": null,
   "metadata": {},
   "outputs": [],
   "source": [
    "# i kernel sono molto veloci perchè usano il 'kernel trick', ovvero non trasformano realmente i dati nella dimensione\n",
    "# maggiore, ma si limitano a calcolare come sarebbe se...\n"
   ]
  }
 ],
 "metadata": {
  "kernelspec": {
   "display_name": "Python 3.8.1 64-bit",
   "language": "python",
   "name": "python38164bit164af38e2bcc47a2b21e3548f92575a3"
  },
  "language_info": {
   "codemirror_mode": {
    "name": "ipython",
    "version": 3
   },
   "file_extension": ".py",
   "mimetype": "text/x-python",
   "name": "python",
   "nbconvert_exporter": "python",
   "pygments_lexer": "ipython3",
   "version": "3.8.1"
  }
 },
 "nbformat": 4,
 "nbformat_minor": 4
}
