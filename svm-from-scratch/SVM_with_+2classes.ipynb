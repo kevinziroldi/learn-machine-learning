{
 "cells": [
  {
   "cell_type": "code",
   "execution_count": 1,
   "metadata": {},
   "outputs": [],
   "source": [
    "# support vector machine is a binary classifier, so it works whit two classes\n",
    "# but there are two methods that allow us to use SVM with more than two classes"
   ]
  },
  {
   "cell_type": "code",
   "execution_count": null,
   "metadata": {},
   "outputs": [],
   "source": [
    "# this two methods are OVR (one versus rest) e OVO (one versus one)\n",
    "# OVR consiste nel tracciare l'iperpiano che separa ogni classe dalle altre, poi trovando le intersezioni faccio\n",
    "# la mia predizione\n",
    "# mentre OVO consiste nel trovare l'iperpiano che separa ogni classe da ogni altra singola classe\n",
    "# OVR è più semplice e più utilizzato, mentre OVO si fa di meno perchè più laborioso, ma se OVR non funziona,\n",
    "# potrebbe funzionare OVO, che è più bilanciato"
   ]
  }
 ],
 "metadata": {
  "kernelspec": {
   "display_name": "Python 3",
   "language": "python",
   "name": "python3"
  },
  "language_info": {
   "codemirror_mode": {
    "name": "ipython",
    "version": 3
   },
   "file_extension": ".py",
   "mimetype": "text/x-python",
   "name": "python",
   "nbconvert_exporter": "python",
   "pygments_lexer": "ipython3",
   "version": "3.7.7"
  }
 },
 "nbformat": 4,
 "nbformat_minor": 4
}
